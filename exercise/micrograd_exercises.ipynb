{
 "nbformat": 4,
 "nbformat_minor": 0,
 "metadata": {
  "colab": {
   "provenance": []
  },
  "kernelspec": {
   "name": "python3",
   "language": "python",
   "display_name": "Python 3 (ipykernel)"
  },
  "language_info": {
   "name": "python"
  }
 },
 "cells": [
  {
   "cell_type": "markdown",
   "source": [
    "# micrograd exercises\n",
    "\n",
    "1. watch the [micrograd video](https://www.youtube.com/watch?v=VMj-3S1tku0) on YouTube\n",
    "2. come back and complete these exercises to level up :)"
   ],
   "metadata": {
    "id": "JnGHatCI51JP"
   }
  },
  {
   "cell_type": "markdown",
   "source": [
    "## section 1: derivatives"
   ],
   "metadata": {
    "id": "OFt6NKOz6iBZ"
   }
  },
  {
   "cell_type": "code",
   "execution_count": 2,
   "outputs": [
    {
     "name": "stdout",
     "output_type": "stream",
     "text": [
      "-0.5/a**0.5 - 3*a**2\n"
     ]
    }
   ],
   "source": [
    "from sympy import symbols, diff, sin\n",
    "\n",
    "a, b, c = symbols('a b c')\n",
    "\n",
    "\n",
    "def f(a, b, c):\n",
    "    return -(a**3) + sin(3 * b) - 1.0 / c + b**2.5 - a**0.5\n",
    "\n",
    "\n",
    "# Derivative with respect to 'a'\n",
    "f_a = diff(f(a, b, c), a)\n",
    "\n",
    "# Derivative with respect to 'b'\n",
    "f_b = diff(f(a, b, c), b)\n",
    "\n",
    "# Derivative with respect to 'c'\n",
    "f_c = diff(f(a, b, c), c)\n",
    "\n",
    "print(f_a)"
   ],
   "metadata": {
    "collapsed": false,
    "ExecuteTime": {
     "end_time": "2023-08-29T02:51:43.546894Z",
     "start_time": "2023-08-29T02:51:43.540352Z"
    }
   }
  },
  {
   "cell_type": "code",
   "source": [
    "# here is a mathematical expression that takes 3 inputs and produces one output\n",
    "from math import sin\n",
    "\n",
    "\n",
    "def f(a, b, c):\n",
    "    return -(a**3) + sin(3 * b) - 1.0 / c + b**2.5 - a**0.5\n",
    "\n",
    "\n",
    "print(f(2, 3, 4))"
   ],
   "metadata": {
    "id": "3Jx9fCXl5xHd",
    "ExecuteTime": {
     "end_time": "2023-08-29T02:15:25.965665Z",
     "start_time": "2023-08-29T02:15:25.961054Z"
    }
   },
   "execution_count": 4,
   "outputs": [
    {
     "name": "stdout",
     "output_type": "stream",
     "text": [
      "6.336362190988558\n"
     ]
    }
   ]
  },
  {
   "cell_type": "code",
   "source": [
    "# write the function df that returns the analytical gradient of f\n",
    "# i.e. use your skills from calculus to take the derivative, then implement the formula\n",
    "# if you do not calculus then feel free to ask wolframalpha, e.g.:\n",
    "# https://www.wolframalpha.com/input?i=d%2Fda%28sin%283*a%29%29%29\n",
    "\n",
    "\n",
    "def gradf(a, b, c):\n",
    "    return [0, 0, 0]  # todo, return [df/da, df/db, df/dc]\n",
    "\n",
    "\n",
    "# expected answer is the list of\n",
    "ans = [-12.353553390593273, 10.25699027111255, 0.0625]\n",
    "yours = gradf(2, 3, 4)\n",
    "for dim in range(3):\n",
    "    ok = \"OK\" if abs(yours[dim] - ans[dim]) < 1e-5 else \"WRONG!\"\n",
    "    print(f\"{ok} for dim {dim}: expected {ans[dim]}, yours returns {yours[dim]}\")"
   ],
   "metadata": {
    "id": "qXaH59eL9zxf"
   },
   "execution_count": null,
   "outputs": []
  },
  {
   "cell_type": "code",
   "source": [
    "# now estimate the gradient numerically without any calculus, using\n",
    "# the approximation we used in the video.\n",
    "# you should not call the function df from the last cell\n",
    "\n",
    "# -----------\n",
    "numerical_grad = [0, 0, 0]  # TODO\n",
    "# -----------\n",
    "\n",
    "for dim in range(3):\n",
    "    ok = \"OK\" if abs(numerical_grad[dim] - ans[dim]) < 1e-5 else \"WRONG!\"\n",
    "    print(\n",
    "        f\"{ok} for dim {dim}: expected {ans[dim]}, yours returns {numerical_grad[dim]}\"\n",
    "    )"
   ],
   "metadata": {
    "id": "_27n-KTA9Qla"
   },
   "execution_count": null,
   "outputs": []
  },
  {
   "cell_type": "code",
   "source": [
    "# there is an alternative formula that provides a much better numerical\n",
    "# approximation to the derivative of a function.\n",
    "# learn about it here: https://en.wikipedia.org/wiki/Symmetric_derivative\n",
    "# implement it. confirm that for the same step size h this version gives a\n",
    "# better approximation.\n",
    "\n",
    "# -----------\n",
    "numerical_grad2 = [0, 0, 0]  # TODO\n",
    "# -----------\n",
    "\n",
    "for dim in range(3):\n",
    "    ok = \"OK\" if abs(numerical_grad2[dim] - ans[dim]) < 1e-5 else \"WRONG!\"\n",
    "    print(\n",
    "        f\"{ok} for dim {dim}: expected {ans[dim]}, yours returns {numerical_grad2[dim]}\"\n",
    "    )"
   ],
   "metadata": {
    "id": "BUqsGb5o_h2P"
   },
   "execution_count": null,
   "outputs": []
  },
  {
   "cell_type": "markdown",
   "source": [
    "## section 2: support for softmax"
   ],
   "metadata": {
    "id": "tklF9s_4AtlI"
   }
  },
  {
   "cell_type": "code",
   "source": [
    "# Value class starter code, with many functions taken out\n",
    "\n",
    "\n",
    "class Value:\n",
    "    def __init__(self, data, _children=(), _op=\"\", label=\"\"):\n",
    "        self.data = data\n",
    "        self.grad = 0.0\n",
    "        self._backward = lambda: None\n",
    "        self._prev = set(_children)\n",
    "        self._op = _op\n",
    "        self.label = label\n",
    "\n",
    "    def __repr__(self):\n",
    "        return f\"Value(data={self.data})\"\n",
    "\n",
    "    def __add__(self, other):  # exactly as in the video\n",
    "        other = other if isinstance(other, Value) else Value(other)\n",
    "        out = Value(self.data + other.data, (self, other), \"+\")\n",
    "\n",
    "        def _backward():\n",
    "            self.grad += 1.0 * out.grad\n",
    "            other.grad += 1.0 * out.grad\n",
    "\n",
    "        out._backward = _backward\n",
    "\n",
    "        return out\n",
    "\n",
    "    # ------\n",
    "    # re-implement all the other functions needed for the exercises below\n",
    "    # your code here\n",
    "    # TODO\n",
    "    # ------\n",
    "\n",
    "    def backward(self):  # exactly as in video\n",
    "        topo = []\n",
    "        visited = set()\n",
    "\n",
    "        def build_topo(v):\n",
    "            if v not in visited:\n",
    "                visited.add(v)\n",
    "                for child in v._prev:\n",
    "                    build_topo(child)\n",
    "                topo.append(v)\n",
    "\n",
    "        build_topo(self)\n",
    "\n",
    "        self.grad = 1.0\n",
    "        for node in reversed(topo):\n",
    "            node._backward()"
   ],
   "metadata": {
    "id": "nAPe_RVrCTeO"
   },
   "execution_count": null,
   "outputs": []
  },
  {
   "cell_type": "code",
   "source": [
    "# without referencing our code/video __too__ much, make this cell work\n",
    "# you'll have to implement (in some cases re-implemented) a number of functions\n",
    "# of the Value object, similar to what we've seen in the video.\n",
    "# instead of the squared error loss this implements the negative log likelihood\n",
    "# loss, which is very often used in classification.\n",
    "\n",
    "\n",
    "# this is the softmax function\n",
    "# https://en.wikipedia.org/wiki/Softmax_function\n",
    "def softmax(logits):\n",
    "    counts = [logit.exp() for logit in logits]\n",
    "    denominator = sum(counts)\n",
    "    out = [c / denominator for c in counts]\n",
    "    return out\n",
    "\n",
    "\n",
    "# this is the negative log likelihood loss function, pervasive in classification\n",
    "logits = [Value(0.0), Value(3.0), Value(-2.0), Value(1.0)]\n",
    "probs = softmax(logits)\n",
    "loss = -probs[3].log()  # dim 3 acts as the label for this input example\n",
    "loss.backward()\n",
    "print(loss.data)\n",
    "\n",
    "ans = [\n",
    "    0.041772570515350445,\n",
    "    0.8390245074625319,\n",
    "    0.005653302662216329,\n",
    "    -0.8864503806400986,\n",
    "]\n",
    "for dim in range(4):\n",
    "    ok = \"OK\" if abs(logits[dim].grad - ans[dim]) < 1e-5 else \"WRONG!\"\n",
    "    print(f\"{ok} for dim {dim}: expected {ans[dim]}, yours returns {logits[dim].grad}\")"
   ],
   "metadata": {
    "id": "VgWvwVQNAvnI"
   },
   "execution_count": null,
   "outputs": []
  },
  {
   "cell_type": "code",
   "source": [
    "# verify the gradient using the torch library\n",
    "# torch should give you the exact same gradient\n"
   ],
   "metadata": {
    "id": "q7ca1SVAGG1S"
   },
   "execution_count": null,
   "outputs": []
  }
 ]
}
